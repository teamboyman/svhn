{
 "cells": [
  {
   "cell_type": "code",
   "execution_count": null,
   "metadata": {},
   "outputs": [],
   "source": [
    "from inference import Inference\n",
    "%pylab inline"
   ]
  },
  {
   "cell_type": "code",
   "execution_count": null,
   "metadata": {},
   "outputs": [],
   "source": [
    "path_to_checkpoint_file = 'logs/train/model.ckpt-136000'\n",
    "inference_model = Inference(path_to_checkpoint_file)"
   ]
  },
  {
   "cell_type": "code",
   "execution_count": null,
   "metadata": {},
   "outputs": [],
   "source": [
    "def spitcell(jsondata,colum,imagepath):\n",
    "#     image = cv2.imread(request.GET['path'])\n",
    "#     data = json.loads(request.GET['json'])\n",
    "#     number = request.GET['colum']\n",
    "\n",
    "    image  = cv2.imread(imagepath)\n",
    "    data = json.loads(jsondata)\n",
    "    number = colum\n",
    "    splitimage = []\n",
    "\n",
    "    num = int(number)+2\n",
    "    def swich(colum):       # get colum name\n",
    "        return {\n",
    "            1: 'Colum1_Cell',\n",
    "            2: 'Colum2_Cell',\n",
    "            3: 'Colum3_Cell',\n",
    "            4: 'Colum4_Cell',\n",
    "            5: 'Colum5_Cell',\n",
    "            6: 'Colum6_Cell',\n",
    "            7: 'Colum7_Cell',\n",
    "        }.get(colum,'Colum2_Cell')\n",
    "    colum = swich(int(number))\n",
    "    data = list(data)\n",
    "    b= data[0]['book']          # get book page version\n",
    "    p= data[1]['page']\n",
    "    v= data[2]['version']\n",
    "    imageforreturn = []\n",
    "\n",
    "    for i in range(len(data[num][colum])):\n",
    "        if i > 0 :\n",
    "            colum_split = data[num][colum][i]\n",
    "            img = image[colum_split[1]:colum_split[3], colum_split[0]:colum_split[2]]       # split image\n",
    "            splitimage.append(img)\n",
    "\n",
    "    return  splitimage"
   ]
  },
  {
   "cell_type": "code",
   "execution_count": null,
   "metadata": {},
   "outputs": [],
   "source": [
    "def inferrence(image):\n",
    "    image_arr = image\n",
    "    predict_arr = []\n",
    "#     path_to_image_file = image\n",
    "    for i in range(len(image_arr)):\n",
    "        image,inference_list = inference_model.run(image_arr[i])\n",
    "        imshow(image)\n",
    "        predict_value = inference_model.output(inference_list)\n",
    "        predict_arr.append(predict_value)"
   ]
  }
 ],
 "metadata": {
  "kernelspec": {
   "display_name": "Python 3",
   "language": "python",
   "name": "python3"
  },
  "language_info": {
   "codemirror_mode": {
    "name": "ipython",
    "version": 3
   },
   "file_extension": ".py",
   "mimetype": "text/x-python",
   "name": "python",
   "nbconvert_exporter": "python",
   "pygments_lexer": "ipython3",
   "version": "3.5.4rc1"
  }
 },
 "nbformat": 4,
 "nbformat_minor": 2
}
