{
 "cells": [
  {
   "cell_type": "code",
   "execution_count": 1,
   "metadata": {
    "collapsed": true
   },
   "outputs": [],
   "source": [
    "import tensorflow as tf\n",
    "import os\n",
    "import math\n",
    "import numpy as np\n",
    "from PIL import Image\n",
    "\n",
    "from digits_inference import DigitsInference\n",
    "from inference_wrapper import InferenceWrapper"
   ]
  },
  {
   "cell_type": "code",
   "execution_count": 2,
   "metadata": {},
   "outputs": [
    {
     "name": "stdout",
     "output_type": "stream",
     "text": [
      "INFO:tensorflow:Restoring parameters from /home/amax/Documents/wit/logs/train/latest.ckpt\n",
      "0 [10, 2, 11] 0.020040589613028462\n",
      "1 [10, 1, 1, 11] 0.016340570377435717\n",
      "2 [10, 1, 2, 11] 0.01532471169238721\n"
     ]
    }
   ],
   "source": [
    "import math\n",
    "path_to_image_file = '/home/amax/Documents/wit/workspace/SVNH_RNN/train1.png'\n",
    "path_to_restore_checkpoint_file = '/home/amax/Documents/wit/logs/train/latest.ckpt'\n",
    "raw_image = Image.open(path_to_image_file)\n",
    "raw_image = raw_image.resize([54, 54])\n",
    "encoded_image = np.array(raw_image, dtype=np.float32)\n",
    "image = encoded_image / 256.0\n",
    "image = (image - 0.5) * 2\n",
    "\n",
    "g = tf.Graph()\n",
    "with g.as_default():\n",
    "\n",
    "    model = InferenceWrapper()\n",
    "    restorer = tf.train.Saver()\n",
    "\n",
    "\n",
    "with tf.Session(graph=g) as sess:\n",
    "\n",
    "    restorer.restore(sess, path_to_restore_checkpoint_file)\n",
    "\n",
    "    inference_model = DigitsInference(model)\n",
    "    inference_list = inference_model.beam_search(sess, image)\n",
    "\n",
    "    for i, result in enumerate(inference_list):\n",
    "        print(i, result.numbers, math.exp(result.logprob))"
   ]
  },
  {
   "cell_type": "code",
   "execution_count": null,
   "metadata": {},
   "outputs": [],
   "source": []
  },
  {
   "cell_type": "code",
   "execution_count": null,
   "metadata": {
    "collapsed": true
   },
   "outputs": [],
   "source": []
  }
 ],
 "metadata": {
  "kernelspec": {
   "display_name": "tensorflow",
   "language": "python",
   "name": "tensorflow"
  },
  "language_info": {
   "codemirror_mode": {
    "name": "ipython",
    "version": 3
   },
   "file_extension": ".py",
   "mimetype": "text/x-python",
   "name": "python",
   "nbconvert_exporter": "python",
   "pygments_lexer": "ipython3",
   "version": "3.5.3"
  }
 },
 "nbformat": 4,
 "nbformat_minor": 2
}
