{
 "cells": [
  {
   "cell_type": "code",
   "execution_count": 1,
   "metadata": {
    "collapsed": true
   },
   "outputs": [],
   "source": [
    "import tensorflow as tf\n",
    "import numpy as np\n",
    "from PIL import Image\n",
    "\n",
    "from inputs import Inputs\n",
    "from model import Model"
   ]
  },
  {
   "cell_type": "code",
   "execution_count": 3,
   "metadata": {},
   "outputs": [
    {
     "name": "stdout",
     "output_type": "stream",
     "text": [
      "INFO:tensorflow:Restoring parameters from /home/amax/Documents/wit/logs/train/latest.ckpt\n",
      "[[ 0.00436551  0.31457138  0.18106771  0.12391223  0.06680626  0.07703912\n",
      "   0.07240979  0.07390161  0.04858515  0.03523227  0.00041484  0.00169402]]\n",
      "1\n",
      "[[ 0.09090577  0.14480592  0.11963265  0.08746888  0.08095665  0.09770905\n",
      "   0.0875629   0.0826637   0.07468309  0.06331289  0.0014083   0.06889024]]\n",
      "1\n",
      "[[ 0.10513581  0.08324511  0.06987566  0.05357154  0.06084283  0.06994826\n",
      "   0.053543    0.046021    0.05202804  0.045269    0.00179459  0.3587251 ]]\n",
      "11\n"
     ]
    }
   ],
   "source": [
    "path_to_restore_checkpoint_file = '/home/amax/Documents/wit/logs/train/latest.ckpt'\n",
    "path_to_image_file = '/home/amax/Documents/wit/workspace/SVNH_RNN/train1.png'\n",
    "\n",
    "raw_image = Image.open(path_to_image_file)\n",
    "image = raw_image.resize([54, 54])\n",
    "encoded_image = np.array(image,dtype=np.float32)\n",
    "image = encoded_image / 256.0\n",
    "image = (image - 0.5) * 2\n",
    "\n",
    "g = tf.Graph()\n",
    "with g.as_default():\n",
    "\n",
    "    mymodel = Model(vocab_size=12,\n",
    "                        mode='inference',\n",
    "                        embedding_size=512,\n",
    "                        num_lstm_units=128,\n",
    "                        lstm_dropout_keep_prob=0.7,\n",
    "                        cnn_drop_rate=0.2,\n",
    "                        initializer_scale=0.08)\n",
    "\n",
    "    mymodel.build()\n",
    "    \n",
    "    \n",
    "# g.finalize()\n",
    "input_feed = [10]\n",
    "with tf.Session(graph=g) as sess:\n",
    "    restorer = tf.train.Saver()\n",
    "    restorer.restore(sess, path_to_restore_checkpoint_file)\n",
    "\n",
    "    initial_state = sess.run(fetches=\"lstm/initial_state:0\",feed_dict={\"image_feed:0\": image})\n",
    "\n",
    "    softmax_output, state_output = sess.run(\n",
    "        fetches=[\"softmax:0\", \"lstm/state:0\"],\n",
    "        feed_dict={\n",
    "            \"input_feed:0\": input_feed,\n",
    "            \"lstm/state_feed:0\": initial_state,\n",
    "        })\n",
    "    print(softmax_output)\n",
    "    digits_1 = np.argmax(softmax_output)\n",
    "    print(digits_1)\n",
    "    \n",
    "    softmax_output, state_output = sess.run(\n",
    "        fetches=[\"softmax:0\", \"lstm/state:0\"],\n",
    "        feed_dict={\n",
    "            \"input_feed:0\": [digits_1],\n",
    "            \"lstm/state_feed:0\": state_output,\n",
    "        })\n",
    "    \n",
    "    print(softmax_output)\n",
    "    digits_2 = np.argmax(softmax_output)\n",
    "    print(digits_2)\n",
    "    \n",
    "    softmax_output, state_output = sess.run(\n",
    "        fetches=[\"softmax:0\", \"lstm/state:0\"],\n",
    "        feed_dict={\n",
    "            \"input_feed:0\": [digits_2],\n",
    "            \"lstm/state_feed:0\": state_output,\n",
    "        })\n",
    "    \n",
    "    print(softmax_output)\n",
    "    digits_3 = np.argmax(softmax_output)\n",
    "    print(digits_3)\n",
    "    \n"
   ]
  },
  {
   "cell_type": "code",
   "execution_count": null,
   "metadata": {
    "collapsed": true
   },
   "outputs": [],
   "source": [
    "from PIL import Image\n",
    "raw_image = Image.open(path_to_image_file)\n",
    "image = raw_image.resize([54, 54])\n",
    "encoded_image = np.array(image,dtype=np.float64)"
   ]
  },
  {
   "cell_type": "code",
   "execution_count": null,
   "metadata": {
    "collapsed": true
   },
   "outputs": [],
   "source": []
  }
 ],
 "metadata": {
  "kernelspec": {
   "display_name": "tensorflow",
   "language": "python",
   "name": "tensorflow"
  },
  "language_info": {
   "codemirror_mode": {
    "name": "ipython",
    "version": 3
   },
   "file_extension": ".py",
   "mimetype": "text/x-python",
   "name": "python",
   "nbconvert_exporter": "python",
   "pygments_lexer": "ipython3",
   "version": "3.5.3"
  }
 },
 "nbformat": 4,
 "nbformat_minor": 2
}
